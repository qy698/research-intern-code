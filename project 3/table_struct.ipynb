{
 "cells": [
  {
   "cell_type": "code",
   "execution_count": 2,
   "id": "b79d64df-d122-448c-bcd2-e52c987c0288",
   "metadata": {},
   "outputs": [],
   "source": [
    "import pandas as pd\n",
    "import numpy as np\n",
    "import random\n",
    "import matplotlib.pyplot as plt \n",
    "import torch \n",
    "\n",
    "import warnings\n",
    "warnings.filterwarnings(\"ignore\")"
   ]
  },
  {
   "cell_type": "code",
   "execution_count": 13,
   "id": "482bfe8d-68d4-4e9d-ae83-3f1b67a16593",
   "metadata": {},
   "outputs": [],
   "source": [
    "idxc = pd.read_csv('../task3/clean_data/clean_idxc.csv')\n",
    "y_pred = pd.read_csv('../task3/clean_data/clean_pred.csv')\n",
    "y_true = pd.read_csv('../task3/clean_data/clean_true.csv')\n",
    "rf = pd.read_csv('../task3/clean_data/clean_ortho_rf.csv')\n",
    "factor_ret = pd.read_csv('../task3/clean_data/clean_factor_ret.csv')"
   ]
  },
  {
   "cell_type": "code",
   "execution_count": 14,
   "id": "42434947-8569-4641-9f21-0b9ff973397c",
   "metadata": {},
   "outputs": [],
   "source": [
    "def fillzeros(y_true):\n",
    "    code_idx = np.sort(np.array(list(set(y_true['stock_code']))))\n",
    "    date_idx = np.sort(np.array(list(set(y_true['trade_date']))))\n",
    "    code_fill = []\n",
    "    for code in code_idx:\n",
    "        x = y_true[y_true['stock_code']==code]\n",
    "        if len(x)<339:\n",
    "            date_fill = list(set(date_idx)-set(x['trade_date']))\n",
    "            df = pd.DataFrame({'trade_date':date_fill,'stock_code':[code]*len(date_fill),'stock_return':[0.0]*len(date_fill)})\n",
    "            y_true = pd.concat([y_true,df],axis=0,ignore_index=True)\n",
    "            \n",
    "    y_true = y_true.sort_values(['trade_date','stock_code'])\n",
    "    y_true.index = range(len(y_true))\n",
    "    return y_true"
   ]
  },
  {
   "cell_type": "code",
   "execution_count": 15,
   "id": "778cbd6d-de98-40e5-ba70-2e8c35b6ed52",
   "metadata": {},
   "outputs": [],
   "source": [
    "# 把stock_return调整为前后两天的价格比，并加入现金部分，记为stock_code=-1\n",
    "def add_cash(y_true):\n",
    "    date_idx = np.sort(np.array(list(set(y_true['trade_date']))))\n",
    "    y_true['stock_return']+=1\n",
    "    y_true = y_true.rename(columns={'stock_return':'y_t'})\n",
    "    for date in date_idx:\n",
    "        cash = pd.DataFrame({'trade_date':[date],'stock_code':[-1],'y_t':[1]})\n",
    "        y_true = pd.concat([y_true,cash],axis=0,ignore_index=True)\n",
    "    y_true = y_true.sort_values(['trade_date','stock_code'])\n",
    "    y_true.index = range(len(y_true))\n",
    "    return y_true"
   ]
  },
  {
   "cell_type": "code",
   "execution_count": 16,
   "id": "6d298134-4e2a-4472-a874-8156be1abb75",
   "metadata": {},
   "outputs": [],
   "source": [
    "# 对持仓权重表进行结构化（对不持仓的股票的weight补零，并添加现金部分）\n",
    "def struct(df_weight,y_true):\n",
    "    date_idx = np.sort(np.array(list(set(df_weight['trade_date']))))\n",
    "    new_df_weight = pd.DataFrame()\n",
    "    for date in date_idx:\n",
    "        temp = df_weight[df_weight['trade_date']==date].set_index('stock_code')\n",
    "        temp2 = y_true[y_true['trade_date']==date].set_index('stock_code')\n",
    "        # 对不持仓的股票的weight补零\n",
    "        temp3 = pd.concat([temp,temp2],axis=1,join='outer').iloc[:,:2].fillna(0)\n",
    "        temp3['trade_date'] = date\n",
    "        temp3 = temp3.reset_index()\n",
    "        # 添加现金项\n",
    "        temp3.loc[0,'weight'] = 1-temp3[temp3['stock_code']!=-1]['weight'].sum()\n",
    "        new_df_weight = pd.concat([new_df_weight,temp3],axis=0)\n",
    "    return new_df_weight"
   ]
  },
  {
   "cell_type": "code",
   "execution_count": 17,
   "id": "d599d0b0-2977-444c-9146-caba39fb967c",
   "metadata": {},
   "outputs": [],
   "source": [
    "y_true_fillzeros = fillzeros(y_true)\n",
    "y_true_with_cash = add_cash(y_true_fillzeros)"
   ]
  },
  {
   "cell_type": "code",
   "execution_count": 8,
   "id": "0d68a6bc-aa2c-44cc-88e8-667b9cf95e58",
   "metadata": {},
   "outputs": [],
   "source": [
    "idxc_struct = struct(idxc,y_true_with_cash)"
   ]
  },
  {
   "cell_type": "code",
   "execution_count": 12,
   "id": "071b4769-9009-45d1-bf71-2c9fa884d2c0",
   "metadata": {},
   "outputs": [],
   "source": [
    "y_true_with_cash.to_csv('../task3/clean_data/clean_y_true_with_cash.csv',index=False)\n",
    "idxc_struct.to_csv('../task3/clean_data/clean_idxc_struct.csv',index=False)"
   ]
  },
  {
   "cell_type": "code",
   "execution_count": null,
   "id": "f370090c-cb85-4f02-a63d-419fb1466e54",
   "metadata": {},
   "outputs": [],
   "source": []
  }
 ],
 "metadata": {
  "kernelspec": {
   "display_name": "Python 3",
   "language": "python",
   "name": "python3"
  },
  "language_info": {
   "codemirror_mode": {
    "name": "ipython",
    "version": 3
   },
   "file_extension": ".py",
   "mimetype": "text/x-python",
   "name": "python",
   "nbconvert_exporter": "python",
   "pygments_lexer": "ipython3",
   "version": "3.8.5"
  }
 },
 "nbformat": 4,
 "nbformat_minor": 5
}
