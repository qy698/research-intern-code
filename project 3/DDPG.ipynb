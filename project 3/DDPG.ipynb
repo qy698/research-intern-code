{
 "cells": [
  {
   "cell_type": "code",
   "execution_count": 1,
   "metadata": {},
   "outputs": [],
   "source": [
    "import pandas as pd\n",
    "import numpy as np\n",
    "import random\n",
    "import matplotlib.pyplot as plt \n",
    "import torch \n",
    "import torch.nn as nn\n",
    "import time\n",
    "import math\n",
    "\n",
    "import warnings\n",
    "warnings.filterwarnings(\"ignore\")"
   ]
  },
  {
   "cell_type": "code",
   "execution_count": 2,
   "metadata": {},
   "outputs": [],
   "source": [
    "idxc = pd.read_csv('../task3/clean_data/clean_idxc.csv')\n",
    "# 剩下的表用于训练和测试,来自inputs_process后的数据\n",
    "y_pred = pd.read_csv('../task3/clean_data/clean_pred_process.csv')\n",
    "y_true = pd.read_csv('../task3/clean_data/clean_true_process.csv')\n",
    "rf = pd.read_csv('../task3/clean_data/clean_ortho_rf_process.csv')\n",
    "factor_ret = pd.read_csv('../task3/clean_data/clean_factor_ret_process.csv')\n",
    "y_true['stock_return']+=1\n",
    "y_true = y_true.rename(columns = {'stock_return':'y_t'})"
   ]
  },
  {
   "cell_type": "code",
   "execution_count": 269,
   "metadata": {},
   "outputs": [],
   "source": [
    "# 计时函数\n",
    "def timeSince(since):\n",
    "    now = time.time()\n",
    "    s = now-since\n",
    "    m = math.floor(s/60)\n",
    "    s-= m*60\n",
    "    return '%dm %ds' % (m,s)"
   ]
  },
  {
   "cell_type": "code",
   "execution_count": 365,
   "metadata": {},
   "outputs": [],
   "source": [
    "# 建立actor网络，输入s，输出a\n",
    "class get_actor(nn.Module):\n",
    "    def __init__(self,state_dim,action_dim):\n",
    "        super(get_actor,self).__init__()\n",
    "        self.fc1 = nn.Linear(state_dim,32)\n",
    "        self.fc2 = nn.Linear(32,action_dim)\n",
    "        self.relu = nn.ReLU()\n",
    "        self.tanh = nn.Tanh()\n",
    "        self.softmax = nn.Softmax()\n",
    "        self.bn1 = nn.BatchNorm1d(32)\n",
    "        self.dropout = nn.Dropout(p=0.3)\n",
    "        \n",
    "    def forward(self,x):\n",
    "        x = self.fc1(x)\n",
    "        x = self.bn1(x)\n",
    "        x = self.relu(x)\n",
    "        x = self.dropout(x)\n",
    "        \n",
    "        x = self.fc2(x)\n",
    "        x = self.tanh(x)\n",
    "        # 为了保证权重之和为1，采用softmax函数转化\n",
    "        x = self.softmax(x)\n",
    "        return x"
   ]
  },
  {
   "cell_type": "code",
   "execution_count": 366,
   "metadata": {},
   "outputs": [],
   "source": [
    "# 建立critic网络，输入s,a，输出Q值\n",
    "class get_critic(nn.Module):\n",
    "    def __init__(self,state_dim,action_dim):\n",
    "        super(get_critic,self).__init__()\n",
    "        self.fc1 = nn.Linear(state_dim+action_dim,256)\n",
    "        self.fc2 = nn.Linear(256,32)\n",
    "        self.fc3 = nn.Linear(32,1)\n",
    "        self.relu = nn.ReLU()\n",
    "        self.tanh = nn.Tanh()\n",
    "        self.bn1 = nn.BatchNorm1d(256)\n",
    "        self.bn2 = nn.BatchNorm1d(32)\n",
    "        self.dropout = nn.Dropout(p=0.3)\n",
    "        \n",
    "        \n",
    "    def forward(self,state,action):\n",
    "        x = torch.cat([state,action], dim=1)\n",
    "        \n",
    "        x = self.fc1(x)\n",
    "        x = self.bn1(x)\n",
    "        x = self.relu(x)\n",
    "        x = self.dropout(x)\n",
    "        \n",
    "        x = self.fc2(x)\n",
    "        x = self.bn2(x)\n",
    "        x = self.relu(x)\n",
    "        x = self.dropout(x)\n",
    "        \n",
    "        x = self.fc3(x)\n",
    "        return x "
   ]
  },
  {
   "cell_type": "code",
   "execution_count": 367,
   "metadata": {},
   "outputs": [],
   "source": [
    "# actor网络(目标在于最大化Q)的loss函数，DDPG算法中采用梯度上升更新\n",
    "class a_loss(nn.Module):\n",
    "    def __init__(self):\n",
    "        super().__init__()\n",
    "    def forward(self,q):\n",
    "        a_loss = -q.mean(0)\n",
    "        return a_loss"
   ]
  },
  {
   "cell_type": "code",
   "execution_count": 368,
   "metadata": {},
   "outputs": [],
   "source": [
    "# 将四个网络actor,actor_target,critic,critic_target封装成一个类\n",
    "class DDPG(object):\n",
    "    def __init__(self,s_dim,a_dim,actor,actor_target,critic,critic_target,a_loss,device):\n",
    "        \n",
    "        self.memory = torch.zeros(memory_capacity,s_dim+a_dim+1+s_dim,dtype=torch.float32)\n",
    "        self.pointer = 0\n",
    "        self.s_dim,self.a_dim = s_dim,a_dim\n",
    "        self.actor,self.actor_target = actor,actor_target\n",
    "        self.critic,self.critic_target = critic,critic_target\n",
    "        self.a_loss = a_loss\n",
    "        \n",
    "        # 初始时,actor_target的参数和actor的相同,critic_target的参数和critic的相同\n",
    "        self.actor_target.load_state_dict(self.actor.state_dict())\n",
    "        self.critic_target.load_state_dict(self.critic.state_dict())\n",
    "        \n",
    "        # actor_target网络不训练，参数更新是由actor网络的参数赋值得到的(用滑动平均或隔一段时间更新一次)\n",
    "        # critic_target网络同理\n",
    "        self.actor_target.eval()\n",
    "        self.critic_target.eval()\n",
    "#         self.actor.train()\n",
    "#         self.critic.train()\n",
    "        \n",
    "        # 选择device,能用gpu加速就用gpu加速\n",
    "        self.device = device\n",
    "        \n",
    "        # 选择优化器\n",
    "        self.actor_opt = torch.optim.Adam(self.actor.parameters(),lr=lr_a)\n",
    "        self.critic_opt = torch.optim.Adam(self.critic.parameters(),lr=lr_c)\n",
    "        \n",
    "        # 选择损失函数\n",
    "        self.critic_criterion = nn.MSELoss().to(self.device)\n",
    "        self.actor_criterion = self.a_loss().to(self.device)\n",
    "    \n",
    "    # policy函数\n",
    "    def choose_action(self,s):\n",
    "        return self.actor(s)\n",
    "    \n",
    "    # 存储数据元组(s,a,r,s_)作为训练集\n",
    "    # 其中s表示当前状态的特征,a表示持仓权重向量，r表示当天的收益（调仓后），s_表示下一个state的特征\n",
    "    def store_transition(self,s,a,r,s_):\n",
    "        \n",
    "        r = torch.tensor([r],dtype=torch.float32)\n",
    "        transition = torch.cat([s,a,r,s_])\n",
    "        index = self.pointer\n",
    "        self.memory[index,:] = transition\n",
    "        self.pointer +=1\n",
    "    \n",
    "    # 利用self.memory里面的训练集对四个网络进行参数更新\n",
    "    def learn(self):\n",
    "        \n",
    "        # bs(batch_state),ba(batch_action)\n",
    "        # br(batch_reward),bs_(batch_next_state)\n",
    "        bs = self.memory[:,:self.s_dim].detach()\n",
    "        ba = self.memory[:,self.s_dim:self.s_dim + self.a_dim].detach()\n",
    "        br = self.memory[:,-self.s_dim-1:-self.s_dim].detach()\n",
    "        bs_ = self.memory[:,-self.s_dim:].detach()\n",
    "       \n",
    "        # critic网络更新\n",
    "        a_  = self.actor_target(bs_)\n",
    "        q_ = self.critic_target(bs_,a_)\n",
    "        y = br + gamma * q_\n",
    "        q = self.critic(bs,ba)\n",
    "        critic_loss = self.critic_criterion(y,q)\n",
    "        self.critic_opt.zero_grad()\n",
    "        critic_loss.backward(retain_graph=True)\n",
    "        self.critic_opt.step()\n",
    "            \n",
    "        # actor网络更新\n",
    "        a = self.actor(bs)\n",
    "        q2 = self.critic(bs,a)\n",
    "        actor_loss = self.actor_criterion(q2)\n",
    "        self.actor_opt.zero_grad()\n",
    "        actor_loss.backward(retain_graph=True)\n",
    "        self.actor_opt.step()\n",
    "     \n",
    "        # 滑动平均更新critic_target,actor_target网络\n",
    "        c_dict = self.critic.state_dict()\n",
    "        c_key = list(c_dict.keys())\n",
    "        ct_dict = self.critic_target.state_dict()\n",
    "        a_dict = self.actor_target.state_dict()\n",
    "        a_key = list(a_dict.keys())\n",
    "        at_dict = self.actor_target.state_dict()\n",
    "        for c in c_key:\n",
    "            ct_dict[c] = ct_dict[c]*decay+c_dict[c]*(1-decay)\n",
    "        for a in a_key:\n",
    "            at_dict[a] = at_dict[a]*decay+a_dict[a]*(1-decay)\n",
    "        self.critic_target.load_state_dict(ct_dict)\n",
    "        self.actor_target.load_state_dict(at_dict)"
   ]
  },
  {
   "cell_type": "code",
   "execution_count": 369,
   "metadata": {},
   "outputs": [],
   "source": [
    "# 计算交易折扣因子,其中df的格式见step函数中的定义\n",
    "# c1=滑点+佣金带来的损失率，c2=税金带来的损失率\n",
    "# 这对应于带现金情形，用于计算index_component表按weight持仓得到的收益\n",
    "def get_mu_cash(df,c1,c2):\n",
    "    \n",
    "    def relu(x):\n",
    "        if x>=0:\n",
    "            return x\n",
    "        else:\n",
    "            return 0\n",
    "    \n",
    "    def function_mu(df,c1,c2,mu):\n",
    "        sigma = 0\n",
    "        for i in range(1,len(df)):\n",
    "            sigma+=relu(df['wt_prime'].iloc[i]-mu*df['w_t'].iloc[i])\n",
    "        numerator = 1+c1-c1*df['wt_prime'].iloc[0]-(2*c1+c2)*sigma\n",
    "        denominator = 1+c1-c1*df['w_t'].iloc[0]\n",
    "        return numerator/denominator\n",
    "\n",
    "    \n",
    "    mu_list=[]\n",
    "    eps = 1e-15\n",
    "    delta = 1\n",
    "    mu = 1\n",
    "    mu_list.append(mu)\n",
    "    while delta>eps:\n",
    "        mu = function_mu(df,c1,c2,mu)\n",
    "        mu_list.append(mu)\n",
    "        delta = abs(mu_list[-1]-mu_list[-2])\n",
    "    \n",
    "    return mu"
   ]
  },
  {
   "cell_type": "code",
   "execution_count": 370,
   "metadata": {},
   "outputs": [],
   "source": [
    "# 计算交易折扣因子,其中df的格式见step函数中的定义\n",
    "# c1=滑点+佣金带来的损失率，c2=税金带来的损失率\n",
    "# 这对应于不带现金情形，用于计算模型训练\n",
    "def get_mu(df,c1,c2):\n",
    "    \n",
    "    def relu(x):\n",
    "        if x>=0:\n",
    "            return x\n",
    "        else:\n",
    "            return 0\n",
    "    \n",
    "    def function_mu(df,c1,c2,mu):\n",
    "        sigma = 0\n",
    "        for i in range(1,len(df)):\n",
    "            sigma+=relu(df['wt_prime'].iloc[i]-mu*df['w_t'].iloc[i])\n",
    "        numerator = 1+c1-(2*c1+c2)*sigma\n",
    "        denominator = 1+c1\n",
    "        return numerator/denominator\n",
    "\n",
    "    \n",
    "    mu_list=[]\n",
    "    eps = 1e-15\n",
    "    delta = 1\n",
    "    mu = 1\n",
    "    mu_list.append(mu)\n",
    "    while delta>eps:\n",
    "        mu = function_mu(df,c1,c2,mu)\n",
    "        mu_list.append(mu)\n",
    "        delta = abs(mu_list[-1]-mu_list[-2])\n",
    "    \n",
    "    return mu"
   ]
  },
  {
   "cell_type": "code",
   "execution_count": 371,
   "metadata": {},
   "outputs": [],
   "source": [
    "# 模型训练时的step函数，主要功能为计算每一步的回报\n",
    "# w_before为trade_date的前一天的持仓权重\n",
    "# w_after为trade_date当天调整仓位后的持仓权重\n",
    "# w_before,w_after都以stock_code为index\n",
    "def step(trade_date,y_true,w_before,w_after):\n",
    "    \n",
    "    date_yt = y_true[y_true['trade_date']==trade_date].set_index('stock_code')['y_t']\n",
    "    w_before = w_before.rename('w_t-1')\n",
    "    w_after = w_after.rename('w_t')\n",
    "    df = pd.concat([date_yt,w_before,w_after],axis=1,join='outer')\n",
    "    df = df.fillna(0)\n",
    "    df['wt_prime']=(df['y_t']*df['w_t-1'])/((df['y_t']*df['w_t-1']).sum())\n",
    "    # 选择不带现金项的交易折扣因子函数\n",
    "    mu = get_mu(df,c1=0.0012+0.00015,c2=0.001)\n",
    "    reward = np.log(mu)+np.log((df['y_t']*df['w_t-1']).sum())\n",
    "    next_trade_date = trade_date+1\n",
    "    \n",
    "    return next_trade_date,reward"
   ]
  },
  {
   "cell_type": "code",
   "execution_count": 372,
   "metadata": {},
   "outputs": [],
   "source": [
    "# 带现金项的step函数\n",
    "def step_cash(trade_date,y_true,w_before,w_after):\n",
    "    \n",
    "    date_yt = y_true[y_true['trade_date']==trade_date].set_index('stock_code')['y_t']\n",
    "    w_before = w_before.rename('w_t-1')\n",
    "    w_after = w_after.rename('w_t')\n",
    "    df = pd.concat([date_yt,w_before,w_after],axis=1,join='outer')\n",
    "    df = df.fillna(0)\n",
    "    df['wt_prime']=(df['y_t']*df['w_t-1'])/((df['y_t']*df['w_t-1']).sum())\n",
    "    # 选择带现金项的交易折扣因子函数\n",
    "    mu = get_mu_cash(df,c1=0.0012+0.00015,c2=0.001)\n",
    "    reward = np.log(mu)+np.log((df['y_t']*df['w_t-1']).sum())\n",
    "    next_trade_date = trade_date+1\n",
    "    \n",
    "    return next_trade_date,reward"
   ]
  },
  {
   "cell_type": "code",
   "execution_count": 373,
   "metadata": {},
   "outputs": [],
   "source": [
    "# 提取状态s的特征，数据类型为tensor\n",
    "def features(trade_date,y_true,y_pred):\n",
    "    score = torch.tensor(y_pred[y_pred['trade_date']==trade_date]['score'].values,dtype=torch.float32)\n",
    "#     y_t = torch.tensor(y_true[y_true['trade_date']==trade_date-1]['y_t'].values,dtype=torch.float32)\n",
    "#     features = torch.cat([score,y_t])\n",
    "    features = score\n",
    "    s_dim = features.shape[0]\n",
    "    return features,s_dim"
   ]
  },
  {
   "cell_type": "code",
   "execution_count": 374,
   "metadata": {},
   "outputs": [],
   "source": [
    "def get_average_policy(n,y_pred,y_true):\n",
    "    average_policy = pd.DataFrame()\n",
    "    date_idx = np.sort(np.array(list(set(y_true['trade_date']))))\n",
    "    for date in date_idx:\n",
    "        # 首先保证y_pred表中的候选stock_code在y_true表中都有\n",
    "        set1 = set(y_true[y_true['trade_date']==date]['stock_code'])\n",
    "        set2 = set(y_pred[y_pred['trade_date']==date]['stock_code'])\n",
    "        candidate_stock_code = list(set1 & set2)\n",
    "        # 排序得到score在前n名的股票的stock_code\n",
    "        temp = y_pred[y_pred['trade_date']==date]\n",
    "        temp = temp[temp['stock_code']==candidate_stock_code]\n",
    "        temp = temp.sort_values('score',ascending=False).iloc[0:n]['stock_code']\n",
    "        first_n_stock_code = np.sort(np.array(list(set(temp))))\n",
    "        temp2 = {\n",
    "                \"trade_date\":list((np.ones(n)*date).astype(int)),\n",
    "                \"stock_code\":first_n_stock_code,\n",
    "                \"weight\":list((np.ones(n)/n).astype(float))\n",
    "                }\n",
    "        temp2 = pd.DataFrame(temp2)\n",
    "        average_policy = pd.concat([average_policy,temp2],axis=0)\n",
    "    return average_policy"
   ]
  },
  {
   "cell_type": "code",
   "execution_count": 375,
   "metadata": {},
   "outputs": [],
   "source": [
    "# 把stock_return调整为前后两天的价格比，并加入现金部分，记为stock_code=-1\n",
    "def add_cash(y_true):\n",
    "    date_idx = np.sort(np.array(list(set(y_true['trade_date']))))\n",
    "    y_true['stock_return']+=1\n",
    "    y_true = y_true.rename(columns={'stock_return':'y_t'})\n",
    "    for date in date_idx:\n",
    "        cash = pd.DataFrame({'trade_date':[date],'stock_code':[-1],'y_t':[1]})\n",
    "        y_true = pd.concat([y_true,cash],axis=0,ignore_index=True)\n",
    "    y_true = y_true.sort_values(['trade_date','stock_code'])\n",
    "    y_true.index = range(len(y_true))\n",
    "    return y_true"
   ]
  },
  {
   "cell_type": "code",
   "execution_count": 376,
   "metadata": {},
   "outputs": [],
   "source": [
    "# 对持仓权重表进行结构化（对不持仓的股票的weight补零，并添加现金部分）\n",
    "# y_true要带现金项\n",
    "def struct(df_weight,y_true):\n",
    "    date_idx = np.sort(np.array(list(set(df_weight['trade_date']))))\n",
    "    new_df_weight = pd.DataFrame()\n",
    "    for date in date_idx:\n",
    "        temp = df_weight[df_weight['trade_date']==date].set_index('stock_code')\n",
    "        temp2 = y_true[y_true['trade_date']==date].set_index('stock_code')\n",
    "        # 对不持仓的股票的weight补零\n",
    "        temp3 = pd.concat([temp,temp2],axis=1,join='outer').iloc[:,:2].fillna(0)\n",
    "        temp3['trade_date'] = date\n",
    "        temp3 = temp3.reset_index()\n",
    "        # 添加现金项\n",
    "        temp3.loc[0,'weight'] = 1-temp3[temp3['stock_code']!=-1]['weight'].sum()\n",
    "        new_df_weight = pd.concat([new_df_weight,temp3],axis=0)\n",
    "    return new_df_weight"
   ]
  },
  {
   "cell_type": "code",
   "execution_count": 377,
   "metadata": {},
   "outputs": [],
   "source": [
    "# 计算带现金项的超额收益\n",
    "def excess_return(df_weight1,df_weight2,y_true):\n",
    "    rlist = []\n",
    "    date_idx = np.sort(np.array(list(set(df_weight1['trade_date']) & set(df_weight2['trade_date']))))\n",
    "    date_idx = date_idx[1:]\n",
    "    for date in date_idx:\n",
    "        w1_before = df_weight1[df_weight1['trade_date']==date-1].set_index('stock_code')['weight']\n",
    "        w1_after = df_weight1[df_weight1['trade_date']==date].set_index('stock_code')['weight']\n",
    "        _,r1 = step_cash(date,y_true,w1_before,w1_after)\n",
    "        w2_before = df_weight2[df_weight2['trade_date']==date-1].set_index('stock_code')['weight']\n",
    "        w2_after = df_weight2[df_weight2['trade_date']==date].set_index('stock_code')['weight']\n",
    "        _,r2 = step_cash(date,y_true,w2_before,w2_after)\n",
    "        rlist.append(r1-r2)\n",
    "    return rlist"
   ]
  },
  {
   "cell_type": "code",
   "execution_count": 378,
   "metadata": {},
   "outputs": [],
   "source": [
    "# 计算日均超额收益和年化超额收益\n",
    "def ex_ret_mean_annul(ex_ret):\n",
    "    ex_ret_mean = np.array(ex_ret).mean()\n",
    "    ex_ret_annul = np.power((1+ex_ret_mean),252)-1\n",
    "    return ex_ret_mean,ex_ret_annul"
   ]
  },
  {
   "cell_type": "code",
   "execution_count": 379,
   "metadata": {},
   "outputs": [],
   "source": [
    "code_idx = np.sort(np.array(list(set(y_true['stock_code']))))\n",
    "date_idx = np.sort(np.array(list(set(y_true['trade_date']))))\n",
    "start_date = date_idx[1]       # 从第二天开始使用模型所选择的持仓\n",
    "_,s_dim = features(start_date,y_true,y_pred) # 状态s的维数\n",
    "a_dim = len(code_idx) # 行动a的维数\n",
    "# 超参数表\n",
    "lr_a = 0.001          # actor网络的学习率\n",
    "lr_c = 0.002          # critic网络的学习率\n",
    "decay = 0.99          # targer网络滑动更新的超参数\n",
    "gamma = 0.8           # 总reward函数中的超参数gamma\n",
    "max_episodes = 20     # 训练次数\n",
    "max_ep_steps = 200    # 前200天的数据用于训练\n",
    "memory_capacity = max_ep_steps  # 每次都拿前200天的数据来训练"
   ]
  },
  {
   "cell_type": "code",
   "execution_count": 380,
   "metadata": {},
   "outputs": [],
   "source": [
    "device = torch.device('cuda' if torch.cuda.is_available() else 'cpu')\n",
    "# DDPG算法中要建立4个网络\n",
    "actor = get_actor(s_dim,a_dim)\n",
    "actor_target = get_actor(s_dim,a_dim)\n",
    "critic = get_critic(s_dim,a_dim)\n",
    "critic_target = get_critic(s_dim,a_dim)\n",
    "ddpg = DDPG(s_dim,a_dim,actor,actor_target,critic,critic_target,a_loss,device)"
   ]
  },
  {
   "cell_type": "code",
   "execution_count": 381,
   "metadata": {},
   "outputs": [
    {
     "name": "stdout",
     "output_type": "stream",
     "text": [
      "已完成1/20,用时0m 27s\n",
      "已完成2/20,用时0m 54s\n",
      "已完成3/20,用时1m 22s\n",
      "已完成4/20,用时1m 51s\n",
      "已完成5/20,用时2m 19s\n",
      "已完成6/20,用时2m 46s\n",
      "已完成7/20,用时3m 14s\n",
      "已完成8/20,用时3m 42s\n",
      "已完成9/20,用时4m 9s\n",
      "已完成10/20,用时4m 36s\n",
      "已完成11/20,用时5m 4s\n",
      "已完成12/20,用时5m 31s\n",
      "已完成13/20,用时5m 58s\n",
      "已完成14/20,用时6m 25s\n",
      "已完成15/20,用时6m 53s\n",
      "已完成16/20,用时7m 19s\n",
      "已完成17/20,用时7m 46s\n",
      "已完成18/20,用时8m 13s\n",
      "已完成19/20,用时8m 40s\n",
      "已完成20/20,用时9m 7s\n"
     ]
    }
   ],
   "source": [
    "# 训练模型\n",
    "reward_buffer = []   # 记录每次训练后得到的reward\n",
    "code_idx = np.sort(np.array(list(set(y_true['stock_code']))))\n",
    "start_time  = time.time()\n",
    "# DDPG属于off-policy--先用策略生成训练数据（s,a,r,s_),再用这些训练数据更新策略\n",
    "for i in range(max_episodes):\n",
    "    date = start_date\n",
    "    ep_reward = 0\n",
    "    action_list = []\n",
    "    # 设第一天的持仓权重为等分情形\n",
    "    action_list.append(np.ones(a_dim,dtype=np.float32)/a_dim)\n",
    "    ddpg.actor.eval()\n",
    "    ddpg.critic.eval()\n",
    "    for j in range(max_ep_steps):\n",
    "        s,_ = features(date,y_true,y_pred)\n",
    "        a = ddpg.choose_action(s.unsqueeze(0))\n",
    "        action_list.append(a.squeeze(0).detach().numpy())\n",
    "        # 构造weight表\n",
    "        w_before = pd.DataFrame({'weight':action_list[-2],'stock_code':code_idx})\n",
    "        w_before = w_before.set_index('stock_code')['weight']\n",
    "        w_after = pd.DataFrame({'weight':action_list[-1],'stock_code':code_idx})\n",
    "        w_after = w_after.set_index('stock_code')['weight']\n",
    "        next_date,r = step(date,y_true,w_before,w_after)\n",
    "        s_,_ = features(next_date,y_true,y_pred)\n",
    "        ddpg.store_transition(s,a.squeeze(0),r,s_)\n",
    "        date = next_date\n",
    "        ep_reward += r\n",
    "        date = next_date\n",
    "        j+=1\n",
    "    \n",
    "    reward_buffer.append(ep_reward)\n",
    "    \n",
    "    ddpg.actor.train()\n",
    "    ddpg.critic.train()\n",
    "    ddpg.learn()\n",
    "    ddpg.pointer = 0\n",
    "    print('已完成%d/%d,用时%s' % (i+1,max_episodes,timeSince(start_time)))"
   ]
  },
  {
   "cell_type": "code",
   "execution_count": 382,
   "metadata": {},
   "outputs": [
    {
     "data": {
      "image/png": "[encoded data removed]",
      "text/plain": [
       "<Figure size 432x288 with 1 Axes>"
      ]
     },
     "metadata": {
      "needs_background": "light"
     },
     "output_type": "display_data"
    }
   ],
   "source": [
    "plt.plot(reward_buffer)\n",
    "plt.show()"
   ]
  },
  {
   "cell_type": "code",
   "execution_count": 383,
   "metadata": {},
   "outputs": [
    {
     "name": "stdout",
     "output_type": "stream",
     "text": [
      "0.99999976 1.0000002\n"
     ]
    }
   ],
   "source": [
    "# 测试模型\n",
    "ddpg.actor.eval()\n",
    "ddpg.critic.eval()\n",
    "test_date = date_idx[-100:]\n",
    "test_action_list = []\n",
    "for date in test_date:\n",
    "    s,_ = features(date,y_true,y_pred)\n",
    "    a = ddpg.choose_action(s.unsqueeze(0))\n",
    "    test_action_list.append(a.squeeze(0).detach().numpy())\n",
    "    \n",
    "# 构造test_action_list对应的dataframe\n",
    "test_df = pd.DataFrame()\n",
    "for i,date in enumerate(test_date):\n",
    "    temp = pd.DataFrame({'trade_date':[date]*len(code_idx),'stock_code':code_idx,'weight':test_action_list[i]})\n",
    "    test_df = pd.concat([test_df,temp],axis=0)\n",
    "    \n",
    "# 检查权重之和是否为1（或者非常接近1）\n",
    "weight_sum = []\n",
    "for date in test_date:\n",
    "    weight_sum.append(test_df[test_df['trade_date']==date]['weight'].sum())\n",
    "print(min(weight_sum),max(weight_sum))"
   ]
  },
  {
   "cell_type": "code",
   "execution_count": 384,
   "metadata": {},
   "outputs": [],
   "source": [
    "# 使用inputs_process前的y_true和y_pred构造baseline\n",
    "y_true2 = pd.read_csv('../task3/clean_data/clean_true.csv')\n",
    "y_pred2 = pd.read_csv('../task3/clean_data/clean_pred.csv')\n",
    "idxc = pd.read_csv('../task3/clean_data/clean_idxc.csv')"
   ]
  },
  {
   "cell_type": "code",
   "execution_count": 385,
   "metadata": {},
   "outputs": [],
   "source": [
    "test_date_idx = np.sort(np.array(list(set(test_df['trade_date']) & set(idxc['trade_date']))))"
   ]
  },
  {
   "cell_type": "code",
   "execution_count": 386,
   "metadata": {},
   "outputs": [],
   "source": [
    "y_true2 = add_cash(y_true2) # 给y_true加现金项\n",
    "idxc = struct(idxc,y_true2)\n",
    "test_df = struct(test_df,y_true2)"
   ]
  },
  {
   "cell_type": "code",
   "execution_count": 387,
   "metadata": {
    "tags": []
   },
   "outputs": [
    {
     "name": "stdout",
     "output_type": "stream",
     "text": [
      "99天的日均超额收益:-0.0002 \t 年化超额收益:-0.0472\n"
     ]
    },
    {
     "data": {
      "image/png": "[encoded data removed]",
      "text/plain": [
       "<Figure size 432x288 with 1 Axes>"
      ]
     },
     "metadata": {
      "needs_background": "light"
     },
     "output_type": "display_data"
    }
   ],
   "source": [
    "# 计算模型的超额收益\n",
    "rlist = excess_return(test_df,idxc,y_true2)\n",
    "rmean,rannul = ex_ret_mean_annul(rlist)\n",
    "plt.plot(rlist)\n",
    "print(\"%d天的日均超额收益:%.4f \\t 年化超额收益:%.4f\" % (len(rlist),rmean,rannul))"
   ]
  },
  {
   "cell_type": "code",
   "execution_count": 394,
   "metadata": {},
   "outputs": [
    {
     "data": {
      "text/plain": [
       "-0.0734845987230876"
      ]
     },
     "execution_count": 394,
     "metadata": {},
     "output_type": "execute_result"
    }
   ],
   "source": [
    "np.array(rlist).mean()/np.array(rlist).std()"
   ]
  },
  {
   "cell_type": "code",
   "execution_count": null,
   "metadata": {},
   "outputs": [],
   "source": []
  },
  {
   "cell_type": "code",
   "execution_count": 231,
   "metadata": {},
   "outputs": [],
   "source": [
    "# 和按score选取前n名并平均持仓的策略做对比\n",
    "policy = get_average_policy(1200,y_pred2,y_true2)\n",
    "# policy = policy[policy['trade_date']>=test_date_idx[0]]\n",
    "policy = struct(policy,y_true2)"
   ]
  },
  {
   "cell_type": "code",
   "execution_count": 232,
   "metadata": {},
   "outputs": [
    {
     "name": "stdout",
     "output_type": "stream",
     "text": [
      "99天的日均超额收益:0.0001 \t 年化超额收益:0.0301\n"
     ]
    },
    {
     "data": {
      "image/png": "[encoded data removed]",
      "text/plain": [
       "<Figure size 432x288 with 1 Axes>"
      ]
     },
     "metadata": {
      "needs_background": "light"
     },
     "output_type": "display_data"
    }
   ],
   "source": [
    "# 计算baseline的超额收益\n",
    "base_rlist =  excess_return(policy,idxc,y_true2)\n",
    "base_rlist = base_rlist[-99:]\n",
    "base_rmean,base_rannul = ex_ret_mean_annul(base_rlist)\n",
    "plt.plot(base_rlist)\n",
    "print(\"%d天的日均超额收益:%.4f \\t 年化超额收益:%.4f\" % (len(base_rlist),base_rmean,base_rannul))"
   ]
  },
  {
   "cell_type": "code",
   "execution_count": 396,
   "metadata": {},
   "outputs": [
    {
     "data": {
      "text/plain": [
       "0.03374043113153632"
      ]
     },
     "execution_count": 396,
     "metadata": {},
     "output_type": "execute_result"
    }
   ],
   "source": [
    "np.array(base_rlist).mean()/np.array(base_rlist).std()"
   ]
  },
  {
   "cell_type": "code",
   "execution_count": null,
   "metadata": {},
   "outputs": [],
   "source": []
  },
  {
   "cell_type": "code",
   "execution_count": null,
   "metadata": {},
   "outputs": [],
   "source": []
  },
  {
   "cell_type": "code",
   "execution_count": null,
   "metadata": {},
   "outputs": [],
   "source": []
  },
  {
   "cell_type": "code",
   "execution_count": null,
   "metadata": {},
   "outputs": [],
   "source": []
  }
 ],
 "metadata": {
  "kernelspec": {
   "display_name": "Python 3",
   "language": "python",
   "name": "python3"
  },
  "language_info": {
   "codemirror_mode": {
    "name": "ipython",
    "version": 3
   },
   "file_extension": ".py",
   "mimetype": "text/x-python",
   "name": "python",
   "nbconvert_exporter": "python",
   "pygments_lexer": "ipython3",
   "version": "3.8.3"
  }
 },
 "nbformat": 4,
 "nbformat_minor": 5
}
