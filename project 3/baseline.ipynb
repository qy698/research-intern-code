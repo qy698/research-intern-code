{
 "cells": [
  {
   "cell_type": "code",
   "execution_count": 1,
   "id": "35ca737e-9c6d-41f2-b8fc-2e3e7a23b13e",
   "metadata": {},
   "outputs": [],
   "source": [
    "import pandas as pd\n",
    "import numpy as np\n",
    "import random\n",
    "import matplotlib.pyplot as plt \n",
    "import torch \n",
    "\n",
    "import warnings\n",
    "warnings.filterwarnings(\"ignore\")"
   ]
  },
  {
   "cell_type": "code",
   "execution_count": 2,
   "id": "bb13067b-09dc-479e-b9cc-e2f65df29afc",
   "metadata": {},
   "outputs": [],
   "source": [
    "idxc = pd.read_csv('../task3/clean_data/clean_idxc.csv')\n",
    "y_pred = pd.read_csv('../task3/clean_data/clean_pred.csv')\n",
    "y_true = pd.read_csv('../task3/clean_data/clean_true.csv')\n",
    "rf = pd.read_csv('../task3/clean_data/clean_ortho_rf.csv')\n",
    "factor_ret = pd.read_csv('../task3/clean_data/clean_factor_ret.csv')"
   ]
  },
  {
   "cell_type": "code",
   "execution_count": 3,
   "id": "000488a6-6922-4e7c-87d5-0dfea7556d2f",
   "metadata": {},
   "outputs": [],
   "source": [
    "c1 = 0.0012+0.00015\n",
    "c2 = 0.001"
   ]
  },
  {
   "cell_type": "code",
   "execution_count": 4,
   "id": "653169e2-c1bc-4d67-a27b-e3ded790c324",
   "metadata": {},
   "outputs": [],
   "source": [
    "# 把stock_return调整为前后两天的价格比，并加入现金部分，记为stock_code=-1\n",
    "def add_cash(y_true):\n",
    "    date_idx = np.sort(np.array(list(set(y_true['trade_date']))))\n",
    "    y_true['stock_return']+=1\n",
    "    y_true = y_true.rename(columns={'stock_return':'y_t'})\n",
    "    for date in date_idx:\n",
    "        cash = pd.DataFrame({'trade_date':[date],'stock_code':[-1],'y_t':[1]})\n",
    "        y_true = pd.concat([y_true,cash],axis=0,ignore_index=True)\n",
    "    y_true = y_true.sort_values(['trade_date','stock_code'])\n",
    "    y_true.index = range(len(y_true))\n",
    "    return y_true"
   ]
  },
  {
   "cell_type": "code",
   "execution_count": 5,
   "id": "23e52595-c3c0-4224-862d-327b4093aaf4",
   "metadata": {},
   "outputs": [],
   "source": [
    "# 计算交易折扣因子\n",
    "def get_mu_cash(df,c1,c2):\n",
    "    \n",
    "    def relu(x):\n",
    "        if x>=0:\n",
    "            return x\n",
    "        else:\n",
    "            return 0\n",
    "    \n",
    "    def function_mu(df,c1,c2,mu):\n",
    "        sigma = 0\n",
    "        for i in range(1,len(df)):\n",
    "            sigma+=relu(df['wt_prime'].iloc[i]-mu*df['w_t'].iloc[i])\n",
    "        numerator = 1+c1-c1*df['wt_prime'].iloc[0]-(2*c1+c2)*sigma\n",
    "        denominator = 1+c1-c1*df['w_t'].iloc[0]\n",
    "        return numerator/denominator\n",
    "\n",
    "    \n",
    "    mu_list=[]\n",
    "    eps = 1e-15\n",
    "    delta = 1\n",
    "    mu = 1\n",
    "    mu_list.append(mu)\n",
    "    while delta>eps:\n",
    "        mu = function_mu(df,c1,c2,mu)\n",
    "        mu_list.append(mu)\n",
    "        delta = abs(mu_list[-1]-mu_list[-2])\n",
    "    \n",
    "    return mu"
   ]
  },
  {
   "cell_type": "code",
   "execution_count": 6,
   "id": "c130fa17-fb13-44c0-8c81-ab5915dd84a7",
   "metadata": {},
   "outputs": [],
   "source": [
    "# step函数，主要功能为计算每一步的回报\n",
    "# y_true，w_before,w_after表都要包含现金部分，即stock_code=-1那一列\n",
    "# w_before为前一天的持仓权重，w_after为当天调整仓位后的持仓权重,都以stock_code为index\n",
    "def step_cash(trade_date,y_true,w_before,w_after):\n",
    "    date_yt = y_true[y_true['trade_date']==trade_date].set_index('stock_code')['y_t']\n",
    "    w_before = w_before.rename('w_t-1')\n",
    "    w_after = w_after.rename('w_t')\n",
    "    df = pd.concat([date_yt,w_before,w_after],axis=1,join='outer')\n",
    "    df = df.fillna(0)\n",
    "    df['wt_prime']=(df['y_t']*df['w_t-1'])/((df['y_t']*df['w_t-1']).sum())\n",
    "    mu = get_mu_cash(df,c1,c2)\n",
    "    reward = np.log(mu)+np.log((df['y_t']*df['w_t-1']).sum())\n",
    "    next_trade_date = trade_date+1\n",
    "    \n",
    "    return next_trade_date,reward"
   ]
  },
  {
   "cell_type": "code",
   "execution_count": 7,
   "id": "d4bd9aea-44dd-4319-a6d0-e4c213c1a3c9",
   "metadata": {},
   "outputs": [],
   "source": [
    "def get_average_policy(n,y_pred,y_true):\n",
    "    average_policy = pd.DataFrame()\n",
    "    date_idx = np.sort(np.array(list(set(y_true['trade_date']))))\n",
    "    for date in date_idx:\n",
    "        # 首先保证y_pred表中的候选stock_code在y_true表中都有\n",
    "        set1 = set(y_true[y_true['trade_date']==date]['stock_code'])\n",
    "        set2 = set(y_pred[y_pred['trade_date']==date]['stock_code'])\n",
    "        candidate_stock_code = list(set1 & set2)\n",
    "        # 排序得到score在前n名的股票的stock_code\n",
    "        temp = y_pred[y_pred['trade_date']==date]\n",
    "        temp = temp[temp['stock_code']==candidate_stock_code]\n",
    "        temp = temp.sort_values('score',ascending=False).iloc[0:n]['stock_code']\n",
    "        first_n_stock_code = np.sort(np.array(list(set(temp))))\n",
    "        temp2 = {\n",
    "                \"trade_date\":list((np.ones(n)*date).astype(int)),\n",
    "                \"stock_code\":first_n_stock_code,\n",
    "                \"weight\":list((np.ones(n)/n).astype(float))\n",
    "                }\n",
    "        temp2 = pd.DataFrame(temp2)\n",
    "        average_policy = pd.concat([average_policy,temp2],axis=0)\n",
    "    return average_policy"
   ]
  },
  {
   "cell_type": "code",
   "execution_count": 8,
   "id": "149172bb-b40f-40d0-9a0c-d1b4fa9fa925",
   "metadata": {},
   "outputs": [],
   "source": [
    "# 对持仓权重表进行结构化（对不持仓的股票的weight补零，并添加现金部分）\n",
    "def struct(df_weight,y_true):\n",
    "    date_idx = np.sort(np.array(list(set(df_weight['trade_date']))))\n",
    "    new_df_weight = pd.DataFrame()\n",
    "    for date in date_idx:\n",
    "        temp = df_weight[df_weight['trade_date']==date].set_index('stock_code')\n",
    "        temp2 = y_true[y_true['trade_date']==date].set_index('stock_code')\n",
    "        # 对不持仓的股票的weight补零\n",
    "        temp3 = pd.concat([temp,temp2],axis=1,join='outer').iloc[:,:2].fillna(0)\n",
    "        temp3['trade_date'] = date\n",
    "        temp3 = temp3.reset_index()\n",
    "        # 添加现金项\n",
    "        temp3.loc[0,'weight'] = 1-temp3[temp3['stock_code']!=-1]['weight'].sum()\n",
    "        new_df_weight = pd.concat([new_df_weight,temp3],axis=0)\n",
    "    return new_df_weight"
   ]
  },
  {
   "cell_type": "code",
   "execution_count": 9,
   "id": "5526eb3f-a269-48f6-ad6c-58c1bfb54bc7",
   "metadata": {},
   "outputs": [],
   "source": [
    "# 计算df_weight1相比df_weight2的超额收益\n",
    "# 其中df_weight1和df_weight2都必须为结构化后的表\n",
    "def excess_return(df_weight1,df_weight2,y_true):\n",
    "    rlist = []\n",
    "    date_idx = np.sort(np.array(list(set(df_weight1['trade_date']) & set(df_weight2['trade_date']))))\n",
    "    date_idx = date_idx[1:]\n",
    "    for date in date_idx:\n",
    "        w1_before = df_weight1[df_weight1['trade_date']==date-1].set_index('stock_code')['weight']\n",
    "        w1_after = df_weight1[df_weight1['trade_date']==date].set_index('stock_code')['weight']\n",
    "        _,r1 = step_cash(date,y_true,w1_before,w1_after)\n",
    "        w2_before = df_weight2[df_weight2['trade_date']==date-1].set_index('stock_code')['weight']\n",
    "        w2_after = df_weight2[df_weight2['trade_date']==date].set_index('stock_code')['weight']\n",
    "        _,r2 = step_cash(date,y_true,w2_before,w2_after)\n",
    "        rlist.append(r1-r2)\n",
    "    return rlist"
   ]
  },
  {
   "cell_type": "code",
   "execution_count": 10,
   "id": "9a5ab4b2-e6bc-4bb6-8ec4-3a6f29dfd818",
   "metadata": {},
   "outputs": [],
   "source": [
    "# 计算日均超额收益和年化超额收益\n",
    "def ex_ret_mean_annul(ex_ret):\n",
    "    ex_ret_mean = np.array(ex_ret).mean()\n",
    "    ex_ret_annul = np.power((1+ex_ret_mean),252)-1\n",
    "    return ex_ret_mean,ex_ret_annul"
   ]
  },
  {
   "cell_type": "code",
   "execution_count": 11,
   "id": "e9ea7120-a521-4a3c-92e7-edef84fa05ac",
   "metadata": {},
   "outputs": [],
   "source": [
    "def test_average_policy(nlist,y_pred,y_true,idxc):\n",
    "    test_rlist,test_rmean,test_rannul= [],[],[]\n",
    "    for n in nlist:\n",
    "        average_policy = get_average_policy(n,y_pred,y_true)\n",
    "        df_weight1 = struct(average_policy,y_true)\n",
    "        df_weight2 = struct(idxc,y_true)\n",
    "        ex_ret= excess_return(df_weight1,df_weight2,y_true)\n",
    "        ex_ret_mean,ex_ret_annul = ex_ret_mean_annul(ex_ret)\n",
    "        test_rlist.append(ex_ret)\n",
    "        test_rmean.append(ex_ret_mean)\n",
    "        test_rannul.append(ex_ret_annul)\n",
    "    return test_rlist,test_rmean,test_rannul"
   ]
  },
  {
   "cell_type": "code",
   "execution_count": 12,
   "id": "a317ad30-dd07-473d-b44e-ba95bf7b166f",
   "metadata": {},
   "outputs": [],
   "source": [
    "y_true = add_cash(y_true)"
   ]
  },
  {
   "cell_type": "code",
   "execution_count": 17,
   "id": "f6fed43b-660a-4c10-9ae6-7ef3d00ec7f1",
   "metadata": {},
   "outputs": [],
   "source": [
    "# 测试单个baseline的超额收益\n",
    "policy = get_average_policy(1200,y_pred,y_true)\n",
    "policy = struct(policy,y_true)\n",
    "idxc = struct(idxc,y_true)"
   ]
  },
  {
   "cell_type": "code",
   "execution_count": 18,
   "id": "9fb829b1-d5fe-40e5-bce0-fce70f9a99a2",
   "metadata": {},
   "outputs": [
    {
     "name": "stdout",
     "output_type": "stream",
     "text": [
      "n=1200时,99天的日均超额收益:0.0001 \t 年化超额收益:0.0301\n"
     ]
    },
    {
     "data": {
      "image/png": "[encoded data removed]",
      "text/plain": [
       "<Figure size 432x288 with 1 Axes>"
      ]
     },
     "metadata": {
      "needs_background": "light"
     },
     "output_type": "display_data"
    }
   ],
   "source": [
    "rlist = excess_return(policy,idxc,y_true)\n",
    "rlist = rlist[-99:]\n",
    "rmean,rannul = ex_ret_mean_annul(rlist)\n",
    "plt.plot(rlist)\n",
    "print(\"n=%d时,%d天的日均超额收益:%.4f \\t 年化超额收益:%.4f\" % (1200,len(rlist),rmean,rannul))"
   ]
  },
  {
   "cell_type": "code",
   "execution_count": 14,
   "id": "7ddaa294-5de9-4278-a51c-3d61dd8b108d",
   "metadata": {},
   "outputs": [],
   "source": [
    "# 测试n取不同值时，baseline的超额收益\n",
    "nlist = [50,100,200,500,800,1000,1200]\n",
    "test_rlist,test_rmean,test_rannul = test_average_policy(nlist,y_pred,y_true,idxc)\n",
    "for i in range(len(nlist)):\n",
    "    plt.title('excess return(every trade day)')\n",
    "    plt.plot(test_rlist[i])\n",
    "    plt.show()\n",
    "    print(\"n=%d时,%d天的日均超额收益:%.4f \\t 年化超额收益:%.4f\" % (nlist[i],len(test_rlist[i]),test_rmean[i],test_rannul[i]))"
   ]
  },
  {
   "cell_type": "code",
   "execution_count": null,
   "id": "9cf4d52e-ed4a-46c9-aa8a-73f7619e4b3e",
   "metadata": {},
   "outputs": [],
   "source": []
  },
  {
   "cell_type": "markdown",
   "id": "20d32ddf-fe94-4895-903e-082bb3369a0b",
   "metadata": {},
   "source": [
    "在按score排名，均分权重的策略下添加其他指标构造新的策略"
   ]
  },
  {
   "cell_type": "code",
   "execution_count": 44,
   "id": "4dce45a0-b7db-49aa-aee9-492f59169b29",
   "metadata": {},
   "outputs": [],
   "source": [
    "def rolling_momentum(y_true,window):\n",
    "    date_idx = np.sort(np.array(list(set(y_true['trade_date']))))\n",
    "    code_idx = np.sort(np.array(list(set(y_true['stock_code']))))\n",
    "    start_date = date_idx[0]+window\n",
    "    date_idx = date_idx[window:]\n",
    "    df_momentum = y_true.copy()\n",
    "    df_momentum.drop('y_t',axis=1,inplace=True)\n",
    "    df_momentum['m_score']=1\n",
    "    df_momentum.drop(index = df_momentum[df_momentum['trade_date']<start_date].index,inplace=True)\n",
    "    for date in date_idx:\n",
    "        temp = y_true[(y_true['trade_date']>=date-window) & (y_true['trade_date']<date)]\n",
    "        for code in code_idx:\n",
    "            temp2 = temp[temp['stock_code']==code]\n",
    "            m_score = temp2['y_t'].prod()\n",
    "#             if len(temp2[temp2['y_t']<1]['y_t'])>0:\n",
    "#                 m_score = temp2[temp2['y_t']<1]['y_t'].prod()\n",
    "#             else:\n",
    "#                 m_score = 1\n",
    "            df_momentum.loc[df_momentum[(df_momentum['trade_date']==date)&(df_momentum['stock_code']==code)].index,'m_score']=m_score\n",
    "    return df_momentum"
   ]
  },
  {
   "cell_type": "code",
   "execution_count": 46,
   "id": "18af70e5-bdcf-4ac0-a513-b6585102d52d",
   "metadata": {},
   "outputs": [],
   "source": [
    "m_score = rolling_momentum(y_true,window=10)"
   ]
  },
  {
   "cell_type": "code",
   "execution_count": 47,
   "id": "4755b531-62ce-402c-bb2c-26d736c5f8d2",
   "metadata": {},
   "outputs": [],
   "source": [
    "def rolling_var(y_true,window):\n",
    "    eps = 1e-10\n",
    "    date_idx = np.sort(np.array(list(set(y_true['trade_date']))))\n",
    "    code_idx = np.sort(np.array(list(set(y_true['stock_code']))))\n",
    "    start_date = date_idx[0]+window\n",
    "    date_idx = date_idx[window:]\n",
    "    df_var = y_true.copy()\n",
    "    df_var.drop('y_t',axis=1,inplace=True)\n",
    "    df_var['var_score']=0\n",
    "    df_var.drop(index = df_var[df_var['trade_date']<start_date].index,inplace=True)\n",
    "    for date in date_idx:\n",
    "        temp = y_true[(y_true['trade_date']>=date-window) & (y_true['trade_date']<date)]\n",
    "        for code in code_idx:\n",
    "            temp2 = temp[temp['stock_code']==code]\n",
    "            var_score = 1/(temp2['y_t'].std()+eps)\n",
    "            df_var.loc[df_var[(df_var['trade_date']==date)&(df_var['stock_code']==code)].index,'var_score']=var_score\n",
    "    return df_var"
   ]
  },
  {
   "cell_type": "code",
   "execution_count": 48,
   "id": "a0e9211b-5bf7-4860-a409-962dc34a9e58",
   "metadata": {},
   "outputs": [],
   "source": [
    "def get_policy2(n,y_pred,y_true,m_score):\n",
    "    policy = pd.DataFrame()\n",
    "    date_idx = np.sort(np.array(list(set(m_score['trade_date']))))\n",
    "    for date in date_idx:\n",
    "        set1 = set(y_true[y_true['trade_date']==date]['stock_code'])\n",
    "        set2 = set(y_pred[y_pred['trade_date']==date]['stock_code'])\n",
    "        candidate_stock_code = list(set1 & set2)\n",
    "        temp = y_pred[y_pred['trade_date']==date].set_index('stock_code')['score']\n",
    "        m_temp = m_score[m_score['trade_date']==date].set_index('stock_code')['m_score']\n",
    "        temp2 = pd.concat([temp,m_temp],axis=1,join='inner')\n",
    "        temp2 = temp2.sort_values(['score'],ascending=False).iloc[0:n]\n",
    "        weight = temp2['m_score']*(np.ones(n)/n)\n",
    "        weight = weight/weight.sum()\n",
    "        temp3 = {\n",
    "                \"trade_date\":list((np.ones(n)*date).astype(int)),\n",
    "                \"stock_code\":list(temp2.index),\n",
    "                \"weight\":list(weight)\n",
    "                }\n",
    "        temp3 = pd.DataFrame(temp3)\n",
    "        policy = pd.concat([policy,temp3],axis=0)\n",
    "    return policy"
   ]
  },
  {
   "cell_type": "code",
   "execution_count": 56,
   "id": "7d11a907-f2bc-4a5c-a2a7-cd412ab064b4",
   "metadata": {},
   "outputs": [],
   "source": [
    "def get_policy3(n,y_pred,y_true,var_score):\n",
    "    policy = pd.DataFrame()\n",
    "    date_idx = np.sort(np.array(list(set(m_score['trade_date']))))\n",
    "    for date in date_idx:\n",
    "        set1 = set(y_true[y_true['trade_date']==date]['stock_code'])\n",
    "        set2 = set(y_pred[y_pred['trade_date']==date]['stock_code'])\n",
    "        candidate_stock_code = list(set1 & set2)\n",
    "        temp = y_pred[y_pred['trade_date']==date].set_index('stock_code')['score']\n",
    "        var_temp = var_score[var_score['trade_date']==date].set_index('stock_code')['var_score']\n",
    "        temp2 = pd.concat([temp,var_temp],axis=1,join='inner')\n",
    "        temp2 = temp2.sort_values(['score'],ascending=False).iloc[0:n]\n",
    "        weight = temp2['var_score']*(np.ones(n)/n)\n",
    "        weight = weight/weight.sum()\n",
    "        temp3 = {\n",
    "                \"trade_date\":list((np.ones(n)*date).astype(int)),\n",
    "                \"stock_code\":list(temp2.index),\n",
    "                \"weight\":list(weight)\n",
    "                }\n",
    "        temp3 = pd.DataFrame(temp3)\n",
    "        policy = pd.concat([policy,temp3],axis=0)\n",
    "    return policy"
   ]
  },
  {
   "cell_type": "code",
   "execution_count": 51,
   "id": "2269852b-2a86-4ee7-a6d8-3d3320abb803",
   "metadata": {},
   "outputs": [],
   "source": [
    "idxc_weight = struct(idxc,y_true)"
   ]
  },
  {
   "cell_type": "code",
   "execution_count": 53,
   "id": "7ac1193a-00d5-441e-ab87-8d5eb6546fd4",
   "metadata": {},
   "outputs": [
    {
     "data": {
      "image/png": "[encoded data removed]",
      "text/plain": [
       "<Figure size 432x288 with 1 Axes>"
      ]
     },
     "metadata": {
      "needs_background": "light"
     },
     "output_type": "display_data"
    },
    {
     "name": "stdout",
     "output_type": "stream",
     "text": [
      "n=800时,328天的日均超额收益:-0.0001 \t 年化超额收益:-0.0218\n"
     ]
    }
   ],
   "source": [
    "policy2 = get_policy2(800,y_pred,y_true,m_score)\n",
    "policy2 = struct(policy2,y_true)\n",
    "ex_ret2 = excess_return(policy2,idxc_weight,y_true)\n",
    "ex_ret_mean2,ex_ret_annul2 = ex_ret_mean_annul(ex_ret2)\n",
    "plt.plot(ex_ret2)\n",
    "plt.show()\n",
    "print(\"n=%d时,%d天的日均超额收益:%.4f \\t 年化超额收益:%.4f\" % (800,len(ex_ret2),ex_ret_mean2,ex_ret_annul2))"
   ]
  },
  {
   "cell_type": "code",
   "execution_count": 54,
   "id": "53211585-c229-4e49-94dc-05d67e4a922d",
   "metadata": {},
   "outputs": [],
   "source": [
    "var_score = rolling_var(y_true,window=10)"
   ]
  },
  {
   "cell_type": "code",
   "execution_count": 57,
   "id": "d920d18b-cacc-4e62-b47b-757f9bf89637",
   "metadata": {},
   "outputs": [
    {
     "data": {
      "image/png": "[encoded data removed]",
      "text/plain": [
       "<Figure size 432x288 with 1 Axes>"
      ]
     },
     "metadata": {
      "needs_background": "light"
     },
     "output_type": "display_data"
    },
    {
     "name": "stdout",
     "output_type": "stream",
     "text": [
      "n=800时,328天的日均超额收益:-0.0003 \t 年化超额收益:-0.0653\n"
     ]
    }
   ],
   "source": [
    "policy3 = get_policy3(800,y_pred,y_true,var_score)\n",
    "policy3 = struct(policy3,y_true)\n",
    "ex_ret3 = excess_return(policy3,idxc_weight,y_true)\n",
    "ex_ret_mean3,ex_ret_annul3 = ex_ret_mean_annul(ex_ret3)\n",
    "plt.plot(ex_ret3)\n",
    "plt.show()\n",
    "print(\"n=%d时,%d天的日均超额收益:%.4f \\t 年化超额收益:%.4f\" % (800,len(ex_ret3),ex_ret_mean3,ex_ret_annul3))"
   ]
  },
  {
   "cell_type": "code",
   "execution_count": null,
   "id": "05e3975c-6de0-4cbc-aade-e1bbf5ca3019",
   "metadata": {},
   "outputs": [],
   "source": []
  }
 ],
 "metadata": {
  "kernelspec": {
   "display_name": "Python 3",
   "language": "python",
   "name": "python3"
  },
  "language_info": {
   "codemirror_mode": {
    "name": "ipython",
    "version": 3
   },
   "file_extension": ".py",
   "mimetype": "text/x-python",
   "name": "python",
   "nbconvert_exporter": "python",
   "pygments_lexer": "ipython3",
   "version": "3.8.5"
  }
 },
 "nbformat": 4,
 "nbformat_minor": 5
}
