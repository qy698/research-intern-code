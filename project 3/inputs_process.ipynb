{
 "cells": [
  {
   "cell_type": "code",
   "execution_count": 20,
   "metadata": {},
   "outputs": [],
   "source": [
    "import pandas as pd\n",
    "import numpy as np\n",
    "import random\n",
    "import matplotlib.pyplot as plt \n",
    "import torch \n",
    "import torch.nn as nn\n",
    "\n",
    "import warnings\n",
    "warnings.filterwarnings(\"ignore\")"
   ]
  },
  {
   "cell_type": "code",
   "execution_count": 21,
   "metadata": {},
   "outputs": [],
   "source": [
    "y_pred = pd.read_csv('../task3/clean_data/clean_pred.csv')\n",
    "y_true = pd.read_csv('../task3/clean_data/clean_true.csv')\n",
    "rf = pd.read_csv('../task3/clean_data/clean_ortho_rf.csv')\n",
    "factor_ret = pd.read_csv('../task3/clean_data/clean_factor_ret.csv')"
   ]
  },
  {
   "cell_type": "markdown",
   "metadata": {},
   "source": [
    "该notebook主要实现y_pred,y_true,rf,factor_ret表的数据对齐(即每个trade_date都有相同维度的数据）"
   ]
  },
  {
   "cell_type": "code",
   "execution_count": 22,
   "metadata": {},
   "outputs": [],
   "source": [
    "# 删除y_true表中数据不足339天的股票和它们在剩下三张表的数据\n",
    "code_delete = []\n",
    "code_idx = np.sort(np.array(list(set(y_true['stock_code']))))\n",
    "for code in code_idx:\n",
    "    x = y_true[y_true['stock_code']==code]\n",
    "    if len(x)<339:\n",
    "        code_delete.append(code)\n",
    "        y_true.drop(y_true[y_true['stock_code']==code].index,inplace=True)\n",
    "        y_pred.drop(y_pred[y_pred['stock_code']==code].index,inplace=True)\n",
    "        rf.drop(rf[rf['stock_code']==code].index,inplace=True)"
   ]
  },
  {
   "cell_type": "code",
   "execution_count": 23,
   "metadata": {},
   "outputs": [],
   "source": [
    "# 删除y_pred表中不足339天的股票和它们在y_pred表和rf表的数据(这是为了保证每天输入的特征的维数相等)\n",
    "code_delete2 =[]\n",
    "code_idx = np.sort(np.array(list(set(code_idx)-set(code_delete))))\n",
    "for code in code_idx:\n",
    "    x = y_pred[y_pred['stock_code']==code]\n",
    "    if len(x)<339:\n",
    "        code_delete2.append(code)\n",
    "        y_true.drop(y_true[y_true['stock_code']==code].index,inplace=True)\n",
    "        y_pred.drop(y_pred[y_pred['stock_code']==code].index,inplace=True)\n",
    "        rf.drop(rf[rf['stock_code']==code].index,inplace=True)"
   ]
  },
  {
   "cell_type": "code",
   "execution_count": 27,
   "metadata": {},
   "outputs": [],
   "source": [
    "# rf表缺失trade_date=3616的数据，可通过线性插值（取前一天和后一天对应risk_factor的平均值）的方法填充\n",
    "code_idx = np.sort(np.array(list(set(code_idx)-set(code_delete2))))\n",
    "df = pd.DataFrame({'trade_date':[3616]*len(code_idx),'stock_code':len(code_idx)})\n",
    "for factor in list(rf.columns)[2:]:\n",
    "    x = pd.DataFrame({factor:(rf[rf['trade_date']==3615][factor].values+rf[rf['trade_date']==3617][factor].values)/2})\n",
    "    df = pd.concat([df,x],axis=1)\n",
    "\n",
    "rf = pd.concat([rf,df],axis=0)"
   ]
  },
  {
   "cell_type": "code",
   "execution_count": 28,
   "metadata": {},
   "outputs": [],
   "source": [
    "# factor_ret表缺失trade_date=3616的数据，可通过线性插值（取前一天和后一天对应risk_factor的平均值）的方法填充\n",
    "factor_list = list(factor_ret.columns)[1:]\n",
    "temp = (factor_ret[factor_ret['trade_date']==3615].iloc[0,1:].values+factor_ret[factor_ret['trade_date']==3617].iloc[0,1:].values)/2\n",
    "df = pd.DataFrame({'trade_date':[3616]})\n",
    "for i,factor in enumerate(factor_list):\n",
    "    x = pd.DataFrame({factor:[temp[i]]})\n",
    "    df = pd.concat([df,x],axis=1)\n",
    "\n",
    "factor_ret = pd.concat([factor_ret,df],axis=0)"
   ]
  },
  {
   "cell_type": "code",
   "execution_count": 32,
   "metadata": {},
   "outputs": [],
   "source": [
    "y_true.to_csv('../task3/clean_data/clean_true_process.csv',index=False)\n",
    "y_pred.to_csv('../task3/clean_data/clean_pred_process.csv',index=False)\n",
    "rf.to_csv('../task3/clean_data/clean_ortho_rf_process.csv',index=False)\n",
    "factor_ret.to_csv('../task3/clean_data/clean_factor_ret_process.csv',index=False)"
   ]
  },
  {
   "cell_type": "code",
   "execution_count": null,
   "metadata": {},
   "outputs": [],
   "source": []
  },
  {
   "cell_type": "code",
   "execution_count": null,
   "metadata": {},
   "outputs": [],
   "source": []
  },
  {
   "cell_type": "code",
   "execution_count": null,
   "metadata": {},
   "outputs": [],
   "source": []
  },
  {
   "cell_type": "code",
   "execution_count": null,
   "metadata": {},
   "outputs": [],
   "source": []
  },
  {
   "cell_type": "code",
   "execution_count": null,
   "metadata": {},
   "outputs": [],
   "source": []
  },
  {
   "cell_type": "code",
   "execution_count": null,
   "metadata": {},
   "outputs": [],
   "source": []
  }
 ],
 "metadata": {
  "kernelspec": {
   "display_name": "Python 3",
   "language": "python",
   "name": "python3"
  },
  "language_info": {
   "codemirror_mode": {
    "name": "ipython",
    "version": 3
   },
   "file_extension": ".py",
   "mimetype": "text/x-python",
   "name": "python",
   "nbconvert_exporter": "python",
   "pygments_lexer": "ipython3",
   "version": "3.8.3"
  }
 },
 "nbformat": 4,
 "nbformat_minor": 5
}
