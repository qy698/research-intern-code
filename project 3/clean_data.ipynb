{
 "cells": [
  {
   "cell_type": "code",
   "execution_count": 1,
   "metadata": {},
   "outputs": [],
   "source": [
    "import pandas as pd\n",
    "import numpy as np\n",
    "import torch \n",
    "\n",
    "import warnings\n",
    "warnings.filterwarnings(\"ignore\")"
   ]
  },
  {
   "cell_type": "code",
   "execution_count": 2,
   "metadata": {},
   "outputs": [],
   "source": [
    "# 录入最原始的数据\n",
    "idxc = pd.read_csv(\"../task3/data/index_component.csv\")\n",
    "rf = pd.read_csv(\"../task3/data/risk_factor.csv\")\n",
    "y_pred = pd.read_csv(\"../task3/data/y_pred.csv\")\n",
    "y_true = pd.read_csv(\"../task3/data/y_true.csv\")"
   ]
  },
  {
   "cell_type": "code",
   "execution_count": 3,
   "metadata": {},
   "outputs": [],
   "source": [
    "# 按trade_date,stock_code排序\n",
    "idxc = idxc.sort_values(['trade_date','stock_code'])\n",
    "rf = rf.sort_values(['trade_date','stock_code'])\n",
    "y_pred = y_pred.sort_values(['trade_date','stock_code'])\n",
    "y_true = y_true.sort_values(['trade_date','stock_code'])"
   ]
  },
  {
   "cell_type": "code",
   "execution_count": 4,
   "metadata": {},
   "outputs": [],
   "source": [
    "# rf表删除重复行\n",
    "rf = rf.drop_duplicates()"
   ]
  },
  {
   "cell_type": "code",
   "execution_count": 5,
   "metadata": {},
   "outputs": [],
   "source": [
    "# risk_factor_5,6,8的值全为零，不包含任何信息，所以要删除\n",
    "rf.drop(['risk_factor_5','risk_factor_6','risk_factor_8'],axis=1,inplace=True)"
   ]
  },
  {
   "cell_type": "code",
   "execution_count": 10,
   "metadata": {},
   "outputs": [],
   "source": [
    "# 因为idxc表含有stock_code=2754的数据，但y_true表却没有,从而没法算收益\n",
    "# 又观察到idxc表中这一股票的数据只到trade_date=3422, 所以只需删除trade_date<=3422之前四张表的所有数据\n",
    "idxc.drop(idxc[idxc['trade_date']<=3422].index,inplace=True)\n",
    "rf.drop(rf[rf['trade_date']<=3422].index,inplace=True)\n",
    "y_pred.drop(y_pred[y_pred['trade_date']<=3422].index,inplace=True)\n",
    "y_true.drop(y_true[y_true['trade_date']<=3422].index,inplace=True)"
   ]
  },
  {
   "cell_type": "code",
   "execution_count": 17,
   "metadata": {},
   "outputs": [],
   "source": [
    "# y_true,y_pred表只到trade_date=3762,而rf,idxc表到trade_date=3981\n",
    "# 但trade_date=3762这一天冒出若干新股数据, 所以把四张表中trade_date>=3762的数据删除\n",
    "idxc.drop(idxc[idxc['trade_date']>=3762].index,inplace=True)\n",
    "rf.drop(rf[rf['trade_date']>=3762].index,inplace=True)\n",
    "y_pred.drop(y_pred[y_pred['trade_date']>=3762].index,inplace=True)\n",
    "y_true.drop(y_true[y_true['trade_date']>=3762].index,inplace=True)"
   ]
  },
  {
   "cell_type": "code",
   "execution_count": 21,
   "metadata": {},
   "outputs": [],
   "source": [
    "# 对于stock_code=97,idxc表有3423<=trade_date<=3518的数据，但y_true表却只有3423<=trade_date<=3511的数据\n",
    "# 而且观察到y_true表中3507<=trade_date<=3511（最后5天）的数据是一样的，那么我们可以将这个值延拓到trade_date=3518\n",
    "# 至此,idxc表中所有（trade_date，stock_code）都能在y_true表中找到,从而可以计算收益\n",
    "for i in range(7): # 一共要补7天的数据\n",
    "    temp = y_true[y_true['stock_code']==97].iloc[-1,:]\n",
    "    temp['trade_date']+=1\n",
    "    y_true = y_true.append(temp)\n",
    "y_true = y_true.sort_values(['trade_date','stock_code'])"
   ]
  },
  {
   "cell_type": "code",
   "execution_count": 22,
   "metadata": {},
   "outputs": [
    {
     "name": "stdout",
     "output_type": "stream",
     "text": [
      "[]\n"
     ]
    }
   ],
   "source": [
    "# 检查idxc表中所有(trade_date，stock_code)是否都能在y_true表中找到\n",
    "date_idx = np.sort(np.array(list(set(y_true['trade_date']))))\n",
    "code_idx = np.sort(np.array(list(set(y_true['stock_code']))))\n",
    "delete_date = []\n",
    "for date in date_idx:\n",
    "    ret_code = set(y_true[y_true['trade_date']==date]['stock_code'])\n",
    "    idxc_code = set(idxc[idxc['trade_date']==date]['stock_code'])\n",
    "    if len(idxc_code-ret_code)>0:\n",
    "        delete_date.append(date)\n",
    "print(delete_date)"
   ]
  },
  {
   "cell_type": "code",
   "execution_count": 23,
   "metadata": {},
   "outputs": [],
   "source": [
    "y_true['stock_code'] = y_true['stock_code'].astype(int)\n",
    "y_true['trade_date'] = y_true['trade_date'].astype(int)"
   ]
  },
  {
   "cell_type": "code",
   "execution_count": 24,
   "metadata": {},
   "outputs": [],
   "source": [
    "idxc.to_csv('../task3/clean_data/clean_idxc.csv',index=False)\n",
    "rf.to_csv('../task3/clean_data/clean_rf.csv',index=False)\n",
    "y_pred.to_csv('../task3/clean_data/clean_pred.csv',index=False)\n",
    "y_true.to_csv('../task3/clean_data/clean_true.csv',index=False)"
   ]
  },
  {
   "cell_type": "code",
   "execution_count": null,
   "metadata": {},
   "outputs": [],
   "source": []
  }
 ],
 "metadata": {
  "kernelspec": {
   "display_name": "Python 3",
   "language": "python",
   "name": "python3"
  },
  "language_info": {
   "codemirror_mode": {
    "name": "ipython",
    "version": 3
   },
   "file_extension": ".py",
   "mimetype": "text/x-python",
   "name": "python",
   "nbconvert_exporter": "python",
   "pygments_lexer": "ipython3",
   "version": "3.8.3"
  }
 },
 "nbformat": 4,
 "nbformat_minor": 4
}
